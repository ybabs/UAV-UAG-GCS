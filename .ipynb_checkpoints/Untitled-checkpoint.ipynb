{
 "cells": [
  {
   "cell_type": "code",
   "execution_count": 1,
   "metadata": {},
   "outputs": [],
   "source": [
    "import math"
   ]
  },
  {
   "cell_type": "code",
   "execution_count": 2,
   "metadata": {},
   "outputs": [],
   "source": [
    "def getPathLength(lat1,lng1,lat2,lng2):\n",
    "    '''calculates the distance between two lat, long coordinate pairs'''\n",
    "    R = 6371000 # radius of earth in m\n",
    "    lat1rads = math.radians(lat1)\n",
    "    lat2rads = math.radians(lat2)\n",
    "    deltaLat = math.radians((lat2-lat1))\n",
    "    deltaLng = math.radians((lng2-lng1))\n",
    "    a = math.sin(deltaLat/2) * math.sin(deltaLat/2) + math.cos(lat1rads) * math.cos(lat2rads) * math.sin(deltaLng/2) * math.sin(deltaLng/2)\n",
    "    c = 2 * math.atan2(math.sqrt(a), math.sqrt(1-a))\n",
    "    d = R * c\n",
    "    return d"
   ]
  },
  {
   "cell_type": "code",
   "execution_count": 3,
   "metadata": {},
   "outputs": [],
   "source": [
    "def getDestinationLatLong(lat,lng,azimuth,distance):\n",
    "    '''returns the lat an long of destination point \n",
    "    given the start lat, long, aziuth, and distance'''\n",
    "    R = 6378.1 #Radius of the Earth in km\n",
    "    brng = math.radians(azimuth) #Bearing is degrees converted to radians.\n",
    "    d = distance/1000 #Distance m converted to km\n",
    "    lat1 = math.radians(lat) #Current dd lat point converted to radians\n",
    "    lon1 = math.radians(lng) #Current dd long point converted to radians\n",
    "    lat2 = math.asin(math.sin(lat1) * math.cos(d/R) + math.cos(lat1)* math.sin(d/R)* math.cos(brng))\n",
    "    lon2 = lon1 + math.atan2(math.sin(brng) * math.sin(d/R)* math.cos(lat1), math.cos(d/R)- math.sin(lat1)* math.sin(lat2))\n",
    "    #convert back to degrees\n",
    "    lat2 = math.degrees(lat2)\n",
    "    lon2 = math.degrees(lon2)\n",
    "    return[lat2, lon2]"
   ]
  },
  {
   "cell_type": "code",
   "execution_count": 4,
   "metadata": {},
   "outputs": [],
   "source": [
    "def calculateBearing(lat1,lng1,lat2,lng2):\n",
    "    '''calculates the azimuth in degrees from start point to end point'''\n",
    "    startLat = math.radians(lat1)\n",
    "    startLong = math.radians(lng1)\n",
    "    endLat = math.radians(lat2)\n",
    "    endLong = math.radians(lng2)\n",
    "    dLong = endLong - startLong\n",
    "    dPhi = math.log(math.tan(endLat/2.0+math.pi/4.0)/math.tan(startLat/2.0+math.pi/4.0))\n",
    "    if abs(dLong) > math.pi:\n",
    "         if dLong > 0.0:\n",
    "             dLong = -(2.0 * math.pi - dLong)\n",
    "         else:\n",
    "             dLong = (2.0 * math.pi + dLong)\n",
    "    bearing = (math.degrees(math.atan2(dLong, dPhi)) + 360.0) % 360.0;\n",
    "    return bearing"
   ]
  },
  {
   "cell_type": "code",
   "execution_count": 15,
   "metadata": {},
   "outputs": [],
   "source": [
    "def main(interval,azimuth,lat1,lng1,lat2,lng2):\n",
    "    '''returns every coordinate pair inbetween two coordinate \n",
    "    pairs given the desired interval'''\n",
    "\n",
    "    d = getPathLength(lat1,lng1,lat2,lng2)\n",
    "    #print(d)\n",
    "    remainder, dist = math.modf((d / interval))\n",
    "    print(dist)\n",
    "    print(remainder)\n",
    "    counter = float(interval)\n",
    "    print(counter)\n",
    "    coords = []\n",
    "    coords.append([lat1,lng1])\n",
    "    for distance in range(0,int(dist)):\n",
    "        coord = getDestinationLatLong(lat1,lng1,azimuth,counter)\n",
    "        counter = counter + float(interval)\n",
    "        coords.append(coord)\n",
    "    coords.append([lat2,lng2])\n",
    "    return coords"
   ]
  },
  {
   "cell_type": "code",
   "execution_count": 17,
   "metadata": {},
   "outputs": [
    {
     "name": "stdout",
     "output_type": "stream",
     "text": [
      "274.3331286845738\n",
      "18.0\n",
      "0.24911354417273657\n",
      "5.0\n"
     ]
    },
    {
     "ename": "AttributeError",
     "evalue": "'list' object has no attribute 'size'",
     "output_type": "error",
     "traceback": [
      "\u001b[0;31m---------------------------------------------------------------------------\u001b[0m",
      "\u001b[0;31mAttributeError\u001b[0m                            Traceback (most recent call last)",
      "\u001b[0;32m<ipython-input-17-a1e476af3037>\u001b[0m in \u001b[0;36m<module>\u001b[0;34m\u001b[0m\n\u001b[1;32m     12\u001b[0m     \u001b[0mprint\u001b[0m \u001b[0;34m(\u001b[0m\u001b[0mazimuth\u001b[0m\u001b[0;34m)\u001b[0m\u001b[0;34m\u001b[0m\u001b[0;34m\u001b[0m\u001b[0m\n\u001b[1;32m     13\u001b[0m     \u001b[0mcoords\u001b[0m \u001b[0;34m=\u001b[0m \u001b[0mmain\u001b[0m\u001b[0;34m(\u001b[0m\u001b[0minterval\u001b[0m\u001b[0;34m,\u001b[0m\u001b[0mazimuth\u001b[0m\u001b[0;34m,\u001b[0m\u001b[0mlat1\u001b[0m\u001b[0;34m,\u001b[0m\u001b[0mlng1\u001b[0m\u001b[0;34m,\u001b[0m\u001b[0mlat2\u001b[0m\u001b[0;34m,\u001b[0m\u001b[0mlng2\u001b[0m\u001b[0;34m)\u001b[0m\u001b[0;34m\u001b[0m\u001b[0;34m\u001b[0m\u001b[0m\n\u001b[0;32m---> 14\u001b[0;31m     \u001b[0mprint\u001b[0m \u001b[0;34m(\u001b[0m\u001b[0mcoords\u001b[0m\u001b[0;34m.\u001b[0m\u001b[0msize\u001b[0m\u001b[0;34m)\u001b[0m\u001b[0;34m\u001b[0m\u001b[0;34m\u001b[0m\u001b[0m\n\u001b[0m",
      "\u001b[0;31mAttributeError\u001b[0m: 'list' object has no attribute 'size'"
     ]
    }
   ],
   "source": [
    "if __name__ == \"__main__\":\n",
    "    #point interval in meters\n",
    "    interval = 5.0\n",
    "    #direction of line in degrees\n",
    "    #start point\n",
    "    lat1 = 52.755928\n",
    "    lng1 =  -1.245679\n",
    "    #end point\n",
    "    lat2 = 52.755990\n",
    "    lng2 = -1.247031\n",
    "    azimuth = calculateBearing(lat1,lng1,lat2,lng2)\n",
    "    print (azimuth)\n",
    "    coords = main(interval,azimuth,lat1,lng1,lat2,lng2)\n",
    "    print (len(coords))"
   ]
  },
  {
   "cell_type": "code",
   "execution_count": null,
   "metadata": {},
   "outputs": [],
   "source": []
  }
 ],
 "metadata": {
  "kernelspec": {
   "display_name": "Python 3",
   "language": "python",
   "name": "python3"
  },
  "language_info": {
   "codemirror_mode": {
    "name": "ipython",
    "version": 3
   },
   "file_extension": ".py",
   "mimetype": "text/x-python",
   "name": "python",
   "nbconvert_exporter": "python",
   "pygments_lexer": "ipython3",
   "version": "3.6.9"
  }
 },
 "nbformat": 4,
 "nbformat_minor": 4
}
